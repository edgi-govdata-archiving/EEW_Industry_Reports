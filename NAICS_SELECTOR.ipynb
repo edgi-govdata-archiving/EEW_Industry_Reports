{
  "cells": [
    {
      "cell_type": "markdown",
      "source": [
        "This cell installs code that helps us run the rest of the notebook."
      ],
      "metadata": {
        "id": "IMn5qkYvm89S"
      }
    },
    {
      "cell_type": "code",
      "execution_count": null,
      "metadata": {
        "id": "9wefslkviRhG"
      },
      "outputs": [],
      "source": [
        "!git clone https://github.com/edgi-govdata-archiving/ECHO_modules.git &>/dev/null\n",
        "!git clone https://github.com/edgi-govdata-archiving/EEW_Industry_Reports.git &>/dev/null\n",
        "import pandas\n",
        "import folium\n",
        "import ipywidgets as widgets\n",
        "import pdb\n",
        "import os\n",
        "import urllib.parse\n",
        "import pandas as pd\n",
        "import matplotlib.pyplot as plt\n",
        "import numpy as np\n",
        "import math"
      ]
    },
    {
      "cell_type": "markdown",
      "metadata": {
        "id": "bMvrrNERmi0S"
      },
      "source": [
        "This cell allows the user to make selections regarding programs, active facilities, and NAICS codes. make_selections() displays a widget, allowing the user to choose multiple programs from a list, decide if they want to filter by active facilities, and input specific NAICS codes separated by commas. Returns the selections made in the widget."
      ]
    },
    {
      "cell_type": "code",
      "execution_count": null,
      "metadata": {
        "id": "ELmOFMA2-f2L",
        "scrolled": true
      },
      "outputs": [],
      "source": [
        "from EEW_Industry_Reports.backend_scripts.programs_facilities_codes import make_selections\n",
        "slct = make_selections()"
      ]
    },
    {
      "cell_type": "markdown",
      "metadata": {
        "id": "8k2VGnJSmi0V"
      },
      "source": [
        "This cell generates an SQL query based on the selections made by the user in the previous cell. query(slct) takes in the arg slct which contains the selections from the previous cell. Returns the SQL query string."
      ]
    },
    {
      "cell_type": "code",
      "execution_count": null,
      "metadata": {
        "id": "lfx67zSWIj7N"
      },
      "outputs": [],
      "source": [
        "from EEW_Industry_Reports.backend_scripts.query_and_filter import query\n",
        "squery = query(slct)\n",
        "\n",
        "# Access the ECHO_EXPORTER table\n",
        "# Output will be the matching tracked by EPA\n",
        "from ECHO_modules.ECHO_modules.get_data import get_echo_data\n",
        "\n",
        "sql = 'select \"FAC_NAME\", \"CWA_NAICS\", \"CAA_NAICS\", \"RCRA_NAICS\", \"FAC_NAICS_CODES\", \"FAC_LAT\", \"FAC_LONG\", \"FAC_INSPECTION_COUNT\", \"FAC_DAYS_LAST_INSPECTION\" ,\"FAC_INFORMAL_COUNT\" ,\"FAC_FORMAL_ACTION_COUNT\", \"FAC_PERCENT_MINORITY\", \"FAC_TOTAL_PENALTIES\", \"FAC_PENALTY_COUNT\", \"FAC_QTRS_WITH_NC\",\"EJSCREEN_FLAG_US\" from \"ECHO_EXPORTER\" where ' + squery\n",
        "try:\n",
        "  echo = get_echo_data( sql )\n",
        "except pandas.errors.EmptyDataError:\n",
        "  print(\"\\nThere are no records.\\n\")\n",
        "\n",
        "echo"
      ]
    },
    {
      "cell_type": "markdown",
      "metadata": {
        "id": "Xy84w8m9mi0W"
      },
      "source": [
        "This cell outputs the mean and medians of different selected fields from the echo table such as FAC_PERCENT_MINORITY, FAC_TOTAL_PENALTIES, etc."
      ]
    },
    {
      "cell_type": "code",
      "execution_count": null,
      "metadata": {
        "id": "yOKHswVbmi0W"
      },
      "outputs": [],
      "source": [
        "from EEW_Industry_Reports.backend_scripts.mean_median import metrics\n",
        "metrics(echo)"
      ]
    },
    {
      "cell_type": "markdown",
      "metadata": {
        "id": "TmXIv8kCmi0Z"
      },
      "source": [
        "This cell generates box plots of different fields."
      ]
    },
    {
      "cell_type": "code",
      "execution_count": null,
      "metadata": {
        "id": "LULruN8umi0Z"
      },
      "outputs": [],
      "source": [
        "from EEW_Industry_Reports.backend_scripts.graphics import plot_visual_data_box_plot\n",
        "plot_visual_data_box_plot(echo.FAC_QTRS_WITH_NC, \"FAC_QTRS_WITH_NC\", \"x\", \"y\")\n",
        "plot_visual_data_box_plot(echo.FAC_PERCENT_MINORITY, \"FAC_PERCENT_MINORITY\", \"x\", \"y\" )\n",
        "plot_visual_data_box_plot(echo.FAC_TOTAL_PENALTIES, \"FAC_TOTAL_PENALTIES\", \"x\", \"y\" )\n",
        "plot_visual_data_box_plot(echo.FAC_PENALTY_COUNT, \"FAC_PENALTY_COUNT\", \"x\", \"y\" )"
      ]
    },
    {
      "cell_type": "code",
      "execution_count": null,
      "metadata": {
        "id": "la6u1HGGPLyv"
      },
      "outputs": [],
      "source": [
        "# Export the data to the \"Files\" side panel for download\n",
        "echo.to_csv(\"data.csv\")"
      ]
    },
    {
      "cell_type": "markdown",
      "metadata": {
        "id": "qQOuitTAmi0Z"
      },
      "source": [
        "Mapping the facilities, displaying the name and inspection count of each."
      ]
    },
    {
      "cell_type": "code",
      "execution_count": null,
      "metadata": {
        "id": "rAq2yqbjiq37"
      },
      "outputs": [],
      "source": [
        "# Map the facilities\n",
        "from folium.plugins import MarkerCluster\n",
        "import math\n",
        "\n",
        "map = folium.Map()\n",
        "marker_cluster = MarkerCluster().add_to(map)\n",
        "\n",
        "for index, row in echo.iterrows():\n",
        "  if math.isnan(row[\"FAC_LAT\"]) or math.isnan(row[\"FAC_LONG\"]): #ignore facilities with no spatial data\n",
        "    pass\n",
        "  else:\n",
        "    marker = folium.Marker(\n",
        "        location = [float(row[\"FAC_LAT\"]), float(row[\"FAC_LONG\"])],\n",
        "        popup = row[\"FAC_NAME\"] + \", Inspection count: \" + str(row[\"FAC_INSPECTION_COUNT\"])\n",
        "    ).add_to(marker_cluster)\n",
        "\n",
        "map\n"
      ]
    },
    {
      "cell_type": "code",
      "execution_count": null,
      "metadata": {
        "id": "1-kIdRB-mi0a"
      },
      "outputs": [],
      "source": []
    }
  ],
  "metadata": {
    "colab": {
      "provenance": []
    },
    "kernelspec": {
      "display_name": "Python 3",
      "language": "python",
      "name": "python3"
    },
    "language_info": {
      "codemirror_mode": {
        "name": "ipython",
        "version": 3
      },
      "file_extension": ".py",
      "mimetype": "text/x-python",
      "name": "python",
      "nbconvert_exporter": "python",
      "pygments_lexer": "ipython3",
      "version": "3.8.8"
    },
    "vscode": {
      "interpreter": {
        "hash": "bd4eeddfed8c6fe0e19545ae345a4200cb8ca79034f930bba9309c73e88b24c5"
      }
    }
  },
  "nbformat": 4,
  "nbformat_minor": 0
}
